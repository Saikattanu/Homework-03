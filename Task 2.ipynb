{
 "cells": [
  {
   "cell_type": "code",
   "execution_count": 1,
   "id": "36b28111",
   "metadata": {},
   "outputs": [],
   "source": [
    "import pandas as pd"
   ]
  },
  {
   "cell_type": "code",
   "execution_count": 2,
   "id": "f7418b60",
   "metadata": {},
   "outputs": [],
   "source": [
    "# Load the 'bowler' sheet from the Excel file\n",
    "df = pd.read_excel('ODI_cricket.xlsx', sheet_name='bowler')"
   ]
  },
  {
   "cell_type": "code",
   "execution_count": 3,
   "id": "d0a87113",
   "metadata": {},
   "outputs": [
    {
     "name": "stdout",
     "output_type": "stream",
     "text": [
      "First 10 Rows:\n",
      "                         Player       Span  Mat  Inns  Balls   Runs  Wkts  \\\n",
      "0  M Muralitharan (Asia/ICC/SL)  1993-2011  350   341  18811  12326   534   \n",
      "1             Wasim Akram (PAK)  1984-2003  356   351  18186  11812   502   \n",
      "2            Waqar Younis (PAK)  1989-2003  262   258  12698   9919   416   \n",
      "3          WPUJC Vaas (Asia/SL)  1994-2008  322   320  15775  11014   400   \n",
      "4  Shahid Afridi (Asia/ICC/PAK)  1996-2015  398   372  17670  13632   395   \n",
      "5       SM Pollock (Afr/ICC/SA)  1996-2008  303   297  15712   9631   393   \n",
      "6          GD McGrath (AUS/ICC)  1993-2007  250   248  12970   8391   381   \n",
      "7                   B Lee (AUS)  2000-2012  221   217  11185   8877   380   \n",
      "8               SL Malinga (SL)  2004-2019  226   220  10936   9760   338   \n",
      "9         A Kumble (Asia/INDIA)  1990-2007  271   265  14496  10412   337   \n",
      "\n",
      "     Ave  Econ    SR   4   5  \n",
      "0  23.08  3.93  35.2  15  10  \n",
      "1  23.52  3.89  36.2  17   6  \n",
      "2  23.84  4.68  30.5  14  13  \n",
      "3  27.53  4.18  39.4   9   4  \n",
      "4  34.51  4.62  44.7   4   9  \n",
      "5  24.50  3.67  39.9  12   5  \n",
      "6  22.02  3.88  34.0   9   7  \n",
      "7  23.36  4.76  29.4  14   9  \n",
      "8  28.87  5.35  32.3  11   8  \n",
      "9  30.89  4.30  43.0   8   2  \n",
      "\n",
      "Last 3 Rows:\n",
      "               Player       Span  Mat  Inns  Balls  Runs  Wkts    Ave  Econ  \\\n",
      "74  Rashid Khan (AFG)  2015-2022   80    76   4074  2821   151  18.68  4.15   \n",
      "75  UDU Chandana (SL)  1994-2007  147   136   6142  4818   151  31.90  4.70   \n",
      "76   R Ashwin (INDIA)  2010-2022  113   111   6141  5058   151  33.49  4.94   \n",
      "\n",
      "      SR  4  5  \n",
      "74  26.9  5  4  \n",
      "75  40.6  4  1  \n",
      "76  40.6  1  0  \n"
     ]
    }
   ],
   "source": [
    "# Display the first 10 rows\n",
    "print(\"First 10 Rows:\")\n",
    "print(df.head(10))\n",
    "\n",
    "# Display the last 3 rows\n",
    "print(\"\\nLast 3 Rows:\")\n",
    "print(df.tail(3))"
   ]
  },
  {
   "cell_type": "code",
   "execution_count": 5,
   "id": "19372888",
   "metadata": {},
   "outputs": [
    {
     "name": "stdout",
     "output_type": "stream",
     "text": [
      "Number of Rows: 77\n",
      "Number of Columns: 12\n"
     ]
    }
   ],
   "source": [
    "# Number of rows and columns\n",
    "num_rows, num_cols = df.shape\n",
    "print(\"Number of Rows:\", num_rows)\n",
    "print(\"Number of Columns:\", num_cols)"
   ]
  },
  {
   "cell_type": "code",
   "execution_count": 6,
   "id": "186f2a7c",
   "metadata": {},
   "outputs": [
    {
     "name": "stdout",
     "output_type": "stream",
     "text": [
      "Data Statistics:\n",
      "              Mat        Inns         Balls          Runs        Wkts  \\\n",
      "count   77.000000   77.000000     77.000000     77.000000   77.000000   \n",
      "mean   194.402597  181.194805   8839.402597   6671.714286  233.805195   \n",
      "std     82.485606   67.958393   3316.055457   2245.839029   84.406603   \n",
      "min     80.000000   76.000000   4074.000000   2821.000000  151.000000   \n",
      "25%    136.000000  128.000000   6182.000000   5058.000000  173.000000   \n",
      "50%    170.000000  164.000000   8054.000000   6192.000000  199.000000   \n",
      "75%    227.000000  218.000000  10750.000000   8021.000000  272.000000   \n",
      "max    463.000000  372.000000  18811.000000  13632.000000  534.000000   \n",
      "\n",
      "             Ave       Econ         SR          4          5  \n",
      "count  77.000000  77.000000  77.000000  77.000000  77.000000  \n",
      "mean   28.958052   4.596753  37.909091   6.350649   2.870130  \n",
      "std     4.826768   0.515814   6.060901   3.556929   2.530606  \n",
      "min    18.680000   3.300000  26.100000   1.000000   0.000000  \n",
      "25%    24.970000   4.280000  33.000000   3.000000   1.000000  \n",
      "50%    29.290000   4.660000  37.800000   6.000000   2.000000  \n",
      "75%    31.900000   4.920000  41.400000   8.000000   4.000000  \n",
      "max    44.480000   5.830000  52.500000  17.000000  13.000000  \n",
      "\n",
      "Data Types:\n",
      "Player     object\n",
      "Span       object\n",
      "Mat         int64\n",
      "Inns        int64\n",
      "Balls       int64\n",
      "Runs        int64\n",
      "Wkts        int64\n",
      "Ave       float64\n",
      "Econ      float64\n",
      "SR        float64\n",
      "4           int64\n",
      "5           int64\n",
      "dtype: object\n"
     ]
    }
   ],
   "source": [
    "# Data statistics and data types\n",
    "print(\"Data Statistics:\")\n",
    "print(df.describe())\n",
    "print(\"\\nData Types:\")\n",
    "print(df.dtypes)"
   ]
  },
  {
   "cell_type": "code",
   "execution_count": 7,
   "id": "53740ce5",
   "metadata": {},
   "outputs": [
    {
     "name": "stdout",
     "output_type": "stream",
     "text": [
      "Missing Values:\n",
      "Player    0\n",
      "Span      0\n",
      "Mat       0\n",
      "Inns      0\n",
      "Balls     0\n",
      "Runs      0\n",
      "Wkts      0\n",
      "Ave       0\n",
      "Econ      0\n",
      "SR        0\n",
      "4         0\n",
      "5         0\n",
      "dtype: int64\n"
     ]
    }
   ],
   "source": [
    "# Check for missing values\n",
    "missing_values = df.isnull().sum()\n",
    "print(\"Missing Values:\")\n",
    "print(missing_values)"
   ]
  },
  {
   "cell_type": "code",
   "execution_count": 8,
   "id": "e48e5740",
   "metadata": {},
   "outputs": [],
   "source": [
    "# Rename columns\n",
    "df.rename(columns={'Mat': 'Matches', 'Inns': 'Innings', 'Wkts': 'Wickets'}, inplace=True)"
   ]
  },
  {
   "cell_type": "code",
   "execution_count": 9,
   "id": "56bf7864",
   "metadata": {},
   "outputs": [
    {
     "name": "stdout",
     "output_type": "stream",
     "text": [
      "Number of Players Played for ICC: 13\n"
     ]
    }
   ],
   "source": [
    "# Count players who played for ICC\n",
    "icc_players = df[df['Player'].str.contains('ICC')]['Player'].count()\n",
    "print(\"Number of Players Played for ICC:\", icc_players)"
   ]
  },
  {
   "cell_type": "code",
   "execution_count": 10,
   "id": "840e7245",
   "metadata": {},
   "outputs": [
    {
     "name": "stdout",
     "output_type": "stream",
     "text": [
      "Number of Different Countries: 1\n"
     ]
    }
   ],
   "source": [
    "# Count different countries\n",
    "num_countries = df['Player'].apply(lambda x: len(x.split('(')) - 1).max()\n",
    "print(\"Number of Different Countries:\", num_countries)"
   ]
  },
  {
   "cell_type": "code",
   "execution_count": 11,
   "id": "892f355d",
   "metadata": {},
   "outputs": [
    {
     "name": "stdout",
     "output_type": "stream",
     "text": [
      "Player(s) with Longest Playing Period:\n",
      "74    Rashid Khan (AFG)\n",
      "Name: Player, dtype: object\n"
     ]
    }
   ],
   "source": [
    "# Player(s) who played for the longest period\n",
    "longest_span = df[df['Span'] == df['Span'].max()]['Player']\n",
    "print(\"Player(s) with Longest Playing Period:\")\n",
    "print(longest_span)"
   ]
  },
  {
   "cell_type": "code",
   "execution_count": 12,
   "id": "97cf0a15",
   "metadata": {},
   "outputs": [
    {
     "name": "stdout",
     "output_type": "stream",
     "text": [
      "Player(s) with Shortest Playing Period:\n",
      "65    RJ Hadlee (NZ)\n",
      "Name: Player, dtype: object\n"
     ]
    }
   ],
   "source": [
    "# Player(s) who played for the shortest period\n",
    "shortest_span = df[df['Span'] == df['Span'].min()]['Player']\n",
    "print(\"Player(s) with Shortest Playing Period:\")\n",
    "print(shortest_span)"
   ]
  },
  {
   "cell_type": "code",
   "execution_count": 13,
   "id": "175a1f58",
   "metadata": {},
   "outputs": [
    {
     "name": "stdout",
     "output_type": "stream",
     "text": [
      "Number of Australian Bowlers: 10\n"
     ]
    }
   ],
   "source": [
    "# Count Australian bowlers\n",
    "australian_bowlers = df[df['Player'].str.contains('AUS')]['Player'].count()\n",
    "print(\"Number of Australian Bowlers:\", australian_bowlers)"
   ]
  },
  {
   "cell_type": "code",
   "execution_count": 14,
   "id": "c2cc51a6",
   "metadata": {},
   "outputs": [
    {
     "name": "stdout",
     "output_type": "stream",
     "text": [
      "Bangladeshi Player Present: True\n"
     ]
    }
   ],
   "source": [
    "# Check for Bangladeshi player\n",
    "bangladeshi_player = any(df['Player'].str.contains('BAN'))\n",
    "print(\"Bangladeshi Player Present:\", bangladeshi_player)"
   ]
  },
  {
   "cell_type": "code",
   "execution_count": 15,
   "id": "3f4b286b",
   "metadata": {},
   "outputs": [
    {
     "name": "stdout",
     "output_type": "stream",
     "text": [
      "Player(s) with Lowest Economy Rate:\n",
      "65    RJ Hadlee (NZ)\n",
      "Name: Player, dtype: object\n"
     ]
    }
   ],
   "source": [
    "# Player(s) with the lowest economy rate\n",
    "lowest_econ = df[df['Econ'] == df['Econ'].min()]['Player']\n",
    "print(\"Player(s) with Lowest Economy Rate:\")\n",
    "print(lowest_econ)"
   ]
  },
  {
   "cell_type": "code",
   "execution_count": 16,
   "id": "89a8cddc",
   "metadata": {},
   "outputs": [
    {
     "name": "stdout",
     "output_type": "stream",
     "text": [
      "Player(s) with Lowest Strike Rate:\n",
      "41    MA Starc (AUS)\n",
      "Name: Player, dtype: object\n"
     ]
    }
   ],
   "source": [
    "# Player(s) with the lowest strike rate\n",
    "lowest_sr = df[df['SR'] == df['SR'].min()]['Player']\n",
    "print(\"Player(s) with Lowest Strike Rate:\")\n",
    "print(lowest_sr)"
   ]
  },
  {
   "cell_type": "code",
   "execution_count": 17,
   "id": "44553920",
   "metadata": {},
   "outputs": [
    {
     "name": "stdout",
     "output_type": "stream",
     "text": [
      "Player(s) with Lowest Bowling Average:\n",
      "74    Rashid Khan (AFG)\n",
      "Name: Player, dtype: object\n"
     ]
    }
   ],
   "source": [
    "# Player(s) with the lowest bowling average\n",
    "lowest_ave = df[df['Ave'] == df['Ave'].min()]['Player']\n",
    "print(\"Player(s) with Lowest Bowling Average:\")\n",
    "print(lowest_ave)"
   ]
  },
  {
   "cell_type": "code",
   "execution_count": 27,
   "id": "c37571d6",
   "metadata": {},
   "outputs": [],
   "source": [
    "# Remove unnecessary columns\n",
    "columns_to_remove = [4, 5]\n",
    "df_cleaned = df.drop(columns=columns_to_remove)"
   ]
  },
  {
   "cell_type": "code",
   "execution_count": null,
   "id": "948322d0",
   "metadata": {},
   "outputs": [],
   "source": []
  }
 ],
 "metadata": {
  "kernelspec": {
   "display_name": "Python 3 (ipykernel)",
   "language": "python",
   "name": "python3"
  },
  "language_info": {
   "codemirror_mode": {
    "name": "ipython",
    "version": 3
   },
   "file_extension": ".py",
   "mimetype": "text/x-python",
   "name": "python",
   "nbconvert_exporter": "python",
   "pygments_lexer": "ipython3",
   "version": "3.9.13"
  }
 },
 "nbformat": 4,
 "nbformat_minor": 5
}
